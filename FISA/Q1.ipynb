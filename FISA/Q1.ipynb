{
 "cells": [
  {
   "cell_type": "markdown",
   "metadata": {},
   "source": [
    "![](Q1.png)"
   ]
  },
  {
   "cell_type": "markdown",
   "metadata": {},
   "source": [
    "To determine the decimal value that needs to be in the register:\n",
    "\n",
    "Instruction format:\n",
    "\n",
    "Opcode: 5 bits\n",
    "Register: 3 bits\n",
    "Index (Displacement): 8 bits\n",
    "Parse the instruction:\n",
    "\n",
    "Opcode (bits 1-5): 1 0 1 1 1\n",
    "Register (bits 6-8): 0 1 1\n",
    "Index (bits 9-16): 0 1 0 1 1 0 1 1\n",
    "Convert Index to decimal:\n",
    "\n",
    "Index binary: 01011011\n",
    "Index hex: 5B\n",
    "Index decimal: 91\n",
    "Calculate the register value:\n",
    "\n",
    "Effective address = [Register] + Index\n",
    "Given effective address: 3AB7H = 15031 (in decimal)\n",
    "[Register] = 15031 - 91 = 14940\n",
    "- Answer: The decimal value that needs to be in the register is 14940.\n",
    "\n"
   ]
  },
  {
   "cell_type": "code",
   "execution_count": null,
   "metadata": {},
   "outputs": [
    {
     "name": "stdout",
     "output_type": "stream",
     "text": [
      "hi\n"
     ]
    }
   ],
   "source": []
  }
 ],
 "metadata": {
  "kernelspec": {
   "display_name": "Python 3",
   "language": "python",
   "name": "python3"
  },
  "language_info": {
   "codemirror_mode": {
    "name": "ipython",
    "version": 3
   },
   "file_extension": ".py",
   "mimetype": "text/x-python",
   "name": "python",
   "nbconvert_exporter": "python",
   "pygments_lexer": "ipython3",
   "version": "3.13.0"
  }
 },
 "nbformat": 4,
 "nbformat_minor": 2
}
