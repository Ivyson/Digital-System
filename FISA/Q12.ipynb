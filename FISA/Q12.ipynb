{
 "cells": [
  {
   "cell_type": "markdown",
   "metadata": {},
   "source": [
    "![](Q12.png)"
   ]
  },
  {
   "cell_type": "code",
   "execution_count": 9,
   "metadata": {},
   "outputs": [
    {
     "name": "stdout",
     "output_type": "stream",
     "text": [
      "Truth table for the expression: ~(x3 | x4 | (x3 & ~(x1 & x2)))\n",
      "x1 | x2 | x3 | x4 | R | S | P | X | Output\n",
      "----------------------------------------\n",
      "0 |   1 3\n",
      "1 |   0 5\n",
      "1 |   0 2\n",
      "0 |   1 4\n",
      "0 |   0 1\n"
     ]
    }
   ],
   "source": [
    "from sympy import symbols\n",
    "from sympy.logic.boolalg import truth_table, And, Nor, Nand, Or\n",
    "\n",
    "# Define up to 6 input variables\n",
    "x1, x2, x3, x4, x5, x6 = symbols('x1 x2 x3 x4 x5 x6')\n",
    "R = Nand(x1, x2)\n",
    "S = Or(x3, x4)\n",
    "P = And(x3, R)\n",
    "X = Nor(P, S)\n",
    "expression = X\n",
    "\n",
    "# Generate truth table\n",
    "print(\"Truth table for the expression:\", expression)\n",
    "print(\"x1 | x2 | x3 | x4 | R | S | P | X | Output\")\n",
    "print(\"-\" * 40)\n",
    "\n",
    "# Target conditions to check\n",
    "target1 = [1, 1, 1, 0]\n",
    "target2 = [0, 1, 1, 1]\n",
    "target3 = [0, 0, 0, 0]\n",
    "target4 = [1, 1, 0, 0]\n",
    "target5 = [0, 0, 1, 1]\n",
    "\n",
    "# Loop through the truth table and print each row in a formatted way\n",
    "for row in truth_table(expression, [x1, x2, x3, x4]):\n",
    "    inputs = [int(val) for val in row[0]]  # Convert True/False to 1/0 (list of ints)\n",
    "    output = 1 if row[1] else 0  # Convert output from True/False to 1/0\n",
    "\n",
    "    # Calculate intermediate values\n",
    "    r_val = 1 if Nand(inputs[0], inputs[1]) else 0\n",
    "    s_val = 1 if Or(inputs[2], inputs[3]) else 0\n",
    "    p_val = 1 if And(inputs[2], r_val) else 0\n",
    "    x_val = 1 if Nor(p_val, s_val) else 0\n",
    "\n",
    "    # Print the row with intermediate values\n",
    "    # print(f\"{inputs[0]}  | {inputs[1]}  | {inputs[2]}  | {inputs[3]}  | {r_val} | {s_val} | {p_val} | {x_val} | {output}\")\n",
    "\n",
    "    # Check if the current inputs match any of the target conditions\n",
    "    if inputs == target1:\n",
    "        print(f\"{p_val} |   {output} 1\")\n",
    "    if inputs == target2:\n",
    "        print(f\"{p_val} |   {output} 2\")\n",
    "    if inputs == target3:\n",
    "        print(f\"{p_val} |   {output} 3\")\n",
    "    if inputs == target4:\n",
    "        print(f\"{p_val} |   {output} 4\")\n",
    "    if inputs == target5:\n",
    "        print(f\"{p_val} |   {output} 5\")"
   ]
  },
  {
   "cell_type": "markdown",
   "metadata": {},
   "source": [
    "I picked H"
   ]
  }
 ],
 "metadata": {
  "kernelspec": {
   "display_name": "Python 3",
   "language": "python",
   "name": "python3"
  },
  "language_info": {
   "codemirror_mode": {
    "name": "ipython",
    "version": 3
   },
   "file_extension": ".py",
   "mimetype": "text/x-python",
   "name": "python",
   "nbconvert_exporter": "python",
   "pygments_lexer": "ipython3",
   "version": "3.13.0"
  }
 },
 "nbformat": 4,
 "nbformat_minor": 2
}
