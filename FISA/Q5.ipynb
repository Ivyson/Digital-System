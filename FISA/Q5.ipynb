{
 "cells": [
  {
   "cell_type": "markdown",
   "metadata": {},
   "source": [
    "To determine the percentage efficiency of the packet, we need to calculate the ratio of the data bytes to the total bytes in the packet and then convert it to a percentage.\n",
    "\n",
    "1. Calculate the total number of bits in the packet:\n",
    "    - Data: 128 bytes * 8 bits/byte = 1024 bits\n",
    "    - Preamble: 13 bits\n",
    "    - Address field: 9 bytes * 8 bits/byte = 72 bits\n",
    "    - Control field: 4 bits\n",
    "    - Frame check: 5 bytes * 8 bits/byte = 40 bits\n",
    "    - End frame: 7 bits\n",
    "\n",
    "    Total bits = 1024 + 13 + 72 + 4 + 40 + 7 = 1160 bits\n",
    "\n",
    "2. Calculate the efficiency:\n",
    "    - Efficiency = (Data bits / Total bits) * 100\n",
    "    - Efficiency = (1024 / 1160) * 100 ≈ 88.3\n",
    "\n",
    "So, the percentage efficiency of the packet is 88.3."
   ]
  },
  {
   "cell_type": "markdown",
   "metadata": {},
   "source": []
  }
 ],
 "metadata": {
  "language_info": {
   "name": "python"
  }
 },
 "nbformat": 4,
 "nbformat_minor": 2
}
