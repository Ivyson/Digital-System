{
 "cells": [
  {
   "cell_type": "markdown",
   "metadata": {},
   "source": [
    "For the linear flash ADC circuit , determine the digital output value, in decimal, for an analog input voltage of 5.5 V and VREF of 12 V. The number of resistors in here are 16, I have 4 Output(Data)\n",
    "For the linear flash ADC circuit, determine the digital output value, in decimal, for an analog input voltage of 5.5 V and VREF of 12 V. The number of resistors in here are 16, I have 4 Output(Data)\n",
    "\n",
    "$\\text{Digital Output} = \\left( \\frac{\\text{Analog Input Voltage}}{\\text{VREF}} \\right) \\times (2^n - 1)$\n",
    "\n",
    "Where \\( n \\) is the number of output bits.\n",
    "\n",
    "Given:\n",
    "- Analog Input Voltage = 5.5 V\n",
    "- VREF = 12 V\n",
    "- Number of output bits (n) = 4\n",
    "\n",
    "- $\\text{Digital Output} = \\left( \\frac{5.5}{12} \\right) \\times (2^4 - 1)$\n",
    "- $\\text{Digital Output} = \\left( \\frac{5.5}{12} \\right) \\times 15$\n",
    "- $\\text{Digital Output} = 0.4583 \\times 15$\n",
    "- $\\text{Digital Output} \\approx 6.875 $\n",
    "\n",
    "Since the digital output value must be an integer, round 6.875 to the nearest integer, which is 7. !!!!!"
   ]
  },
  {
   "cell_type": "markdown",
   "metadata": {},
   "source": []
  }
 ],
 "metadata": {
  "language_info": {
   "name": "python"
  }
 },
 "nbformat": 4,
 "nbformat_minor": 2
}
