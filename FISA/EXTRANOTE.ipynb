{
 "cells": [
  {
   "cell_type": "markdown",
   "metadata": {},
   "source": [
    "Question 8, I wrote the workings and got a final of 17 MHz\n",
    "Question 9 My workings on the same page as Question 8 say i got 32 => 10 00 00\n",
    "Q1 , I got Workings of 14940, Using the idea the following appraoch\n",
    "EA = PC + Indexing \n",
    "PC = EA - Indexing\n",
    "EA = 3AB7H = 15 031\n",
    "Indexing = 91 => 101 1011\n",
    "PC = 15 031 - 91\n",
    "\n",
    "\n",
    "- Question 2 Tweaked on me\n",
    "\n",
    "| A | B | A XNOR B |\n",
    "|---|---|---------|\n",
    "| 0 | 0 |    1    |\n",
    "| 0 | 1 |    0    |\n",
    "| 1 | 0 |    0    |\n",
    "| 1 | 1 |    1    |\n",
    "\n",
    "Somehow output = 00110\n",
    "- Questio 3? I am quiet sure about that one\n",
    "- Question 4 -- \n",
    "I am positive on Question 4\n",
    "- Question 5 \n",
    "Not so sure about this...It might be slightly off by decimal values\n",
    "- Question 6? Forgot to prepare for that, But the formula i used is somehow correct\n",
    "\n",
    "- Question 7 should be correct, because i confirmed the answer\n",
    "- Question 10?\n",
    "    - I am not sure, mgiht have missed this one\n",
    "    - But it should be correct \n",
    "- Question 11 -- I am confident on that one\n",
    "- Question 12? I used code to confirm, so it should be correct\n",
    "\n",
    "- "
   ]
  },
  {
   "cell_type": "markdown",
   "metadata": {},
   "source": []
  }
 ],
 "metadata": {
  "language_info": {
   "name": "python"
  }
 },
 "nbformat": 4,
 "nbformat_minor": 2
}
