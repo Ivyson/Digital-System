{
 "cells": [
  {
   "cell_type": "markdown",
   "metadata": {},
   "source": [
    "![](Q11.png)"
   ]
  },
  {
   "cell_type": "code",
   "execution_count": 1,
   "metadata": {},
   "outputs": [
    {
     "data": {
      "text/plain": [
       "163"
      ]
     },
     "execution_count": 1,
     "metadata": {},
     "output_type": "execute_result"
    }
   ],
   "source": [
    "# Given data\n",
    "V_DD = 7  # Supply voltage in Volts\n",
    "f_I = 15e6  # Input frequency in Hz (14 MHz)\n",
    "CPD = 18e-12  # Capacitance in Farads (18 pF)\n",
    "n_internal = 12  # Number of bits switching internally\n",
    "f_load = f_I / 10  # Load frequency (one tenth of input frequency)\n",
    "C_L = 14e-12  # Load capacitance per bit in Farads (21 pF)\n",
    "n_external = 4  # Number of bits in the external load\n",
    "\n",
    "# Internal Power \n",
    "P_internal = f_I * (V_DD ** 2) * (n_internal * CPD)\n",
    "# External Power \n",
    "P_external = f_load * (V_DD ** 2) * (n_external * C_L)\n",
    "\n",
    "# Total Dynamic Power Dissipation\n",
    "P_total = P_internal + P_external\n",
    "P_total_mW = P_total * 1e3  # Convert from W to mW\n",
    "\n",
    "round(P_total_mW)\n"
   ]
  }
 ],
 "metadata": {
  "kernelspec": {
   "display_name": "Python 3",
   "language": "python",
   "name": "python3"
  },
  "language_info": {
   "codemirror_mode": {
    "name": "ipython",
    "version": 3
   },
   "file_extension": ".py",
   "mimetype": "text/x-python",
   "name": "python",
   "nbconvert_exporter": "python",
   "pygments_lexer": "ipython3",
   "version": "3.13.0"
  }
 },
 "nbformat": 4,
 "nbformat_minor": 2
}
