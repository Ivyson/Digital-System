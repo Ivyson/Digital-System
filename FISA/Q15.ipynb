{
 "cells": [
  {
   "cell_type": "markdown",
   "metadata": {},
   "source": [
    "![](Q15.png)\n",
    "\n",
    "### **JK Flip-Flop Detailed Truth Table**:\n",
    "\n",
    "| **J** | **K** | **Q (Current State)** | **Q' (Complementary Current State)** | **Q (Next State)** | **Description** |\n",
    "|-------|-------|-----------------------|--------------------------------------|--------------------|-----------------|\n",
    "|   0   |   0   |           0           |                  1                   |          0         | No Change: The state remains the same (Q = 0). |\n",
    "|   0   |   0   |           1           |                  0                   |          1         | No Change: The state remains the same (Q = 1). |\n",
    "|   0   |   1   |           0           |                  1                   |          0         | Reset: The output is reset to `0`. |\n",
    "|   0   |   1   |           1           |                  0                   |          0         | Reset: The output is reset to `0`. |\n",
    "|   1   |   0   |           0           |                  1                   |          1         | Set: The output is set to `1`. |\n",
    "|   1   |   0   |           1           |                  0                   |          1         | Set: The output remains `1`. |\n",
    "|   1   |   1   |           0           |                  1                   |          1         | Toggle: The output is toggled to `1` (Q changes from 0 to 1). |\n",
    "|   1   |   1   |           1           |                  0                   |          0         | Toggle: The output is toggled to `0` (Q changes from 1 to 0). |\n",
    "\n",
    "---"
   ]
  },
  {
   "cell_type": "markdown",
   "metadata": {},
   "source": [
    "LLLHHHH"
   ]
  }
 ],
 "metadata": {
  "language_info": {
   "name": "python"
  }
 },
 "nbformat": 4,
 "nbformat_minor": 2
}
