{
 "cells": [
  {
   "cell_type": "markdown",
   "metadata": {},
   "source": [
    "![alt text](Q1.png)\n",
    "![](Q1B.png)"
   ]
  },
  {
   "cell_type": "code",
   "execution_count": 4,
   "metadata": {},
   "outputs": [
    {
     "name": "stdout",
     "output_type": "stream",
     "text": [
      "Truth table for the expression: ~((x3 & x4) | (x3 & ~(x1 | x2)))\n",
      "x1 | x2 | x3 | x4 | Output\n",
      "____________________\n",
      "[0, 0, 0, 0] |   1 \n",
      "[0, 0, 0, 1] |   1 \n",
      "[0, 0, 1, 0] |   0 \n",
      "[0, 0, 1, 1] |   0 \n",
      "[0, 1, 0, 0] |   1 \n",
      "[0, 1, 0, 1] |   1 \n",
      "[0, 1, 1, 0] |   1 \n",
      "[0, 1, 1, 1] |   0 \n",
      "[1, 0, 0, 0] |   1 \n",
      "[1, 0, 0, 1] |   1 \n",
      "[1, 0, 1, 0] |   1 \n",
      "[1, 0, 1, 1] |   0 \n",
      "[1, 1, 0, 0] |   1 \n",
      "[1, 1, 0, 1] |   1 \n",
      "[1, 1, 1, 0] |   1 \n",
      "[1, 1, 1, 1] |   0 \n"
     ]
    }
   ],
   "source": [
    "from sympy import symbols\n",
    "from sympy.logic.boolalg import truth_table, And, Nor\n",
    "\n",
    "# Define up to 6 input variables\n",
    "x1, x2, x3, x4, x5, x6 = symbols('x1 x2 x3 x4 x5 x6')\n",
    "R = Nor(x1,x2)\n",
    "S = And(x3,x4)\n",
    "P = And(x3, R)\n",
    "X = Nor(P, S)\n",
    "expression = X\n",
    "X\n",
    "# Generate truth table\n",
    "print(\"Truth table for the expression:\", expression)\n",
    "print(\"x1 | x2 | x3 | x4 | Output\")\n",
    "print(\"_\" * 20)\n",
    "\n",
    "# Target conditions to check\n",
    "target1 = [1, 1, 1, 0]\n",
    "target2 = [0, 1, 1, 1]\n",
    "target3 = [1, 1, 0, 0]\n",
    "target4 = [1, 0, 0, 0]\n",
    "target5 = [0, 0, 1, 1]\n",
    "\n",
    "# # Loop through the truth table and print each row in a formatted way\n",
    "for row in truth_table(expression, [x1, x2, x3, x4]):\n",
    "    inputs = [int(val) for val in row[0]]  # Convert True/False to 1/0 (list of ints)\n",
    "    output = 1 if row[1] else 0  # Convert output from True/False to 1/0\n",
    "    print(f\"{inputs} |   {output} \")\n"
   ]
  }
 ],
 "metadata": {
  "kernelspec": {
   "display_name": "venv",
   "language": "python",
   "name": "python3"
  },
  "language_info": {
   "codemirror_mode": {
    "name": "ipython",
    "version": 3
   },
   "file_extension": ".py",
   "mimetype": "text/x-python",
   "name": "python",
   "nbconvert_exporter": "python",
   "pygments_lexer": "ipython3",
   "version": "3.13.0"
  }
 },
 "nbformat": 4,
 "nbformat_minor": 2
}
