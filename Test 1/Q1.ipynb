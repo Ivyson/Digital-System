{
 "cells": [
  {
   "cell_type": "markdown",
   "metadata": {},
   "source": [
    "![alt text](Q1.png)\n",
    "![](Q1B.png)"
   ]
  },
  {
   "cell_type": "code",
   "execution_count": 5,
   "metadata": {},
   "outputs": [
    {
     "name": "stdout",
     "output_type": "stream",
     "text": [
      "Truth table for the expression: ~((x3 & x4) | (x3 & ~(x1 | x2)))\n",
      "x1 | x2 | x3 | x4 | R | S | P | X | Output\n",
      "________________________________________\n",
      "0  | 0  | 0  | 0  | 1 | 0 | 0 | 1 | 1\n",
      "0  | 0  | 0  | 1  | 1 | 0 | 0 | 1 | 1\n",
      "0  | 0  | 1  | 0  | 1 | 0 | 1 | 0 | 0\n",
      "0  | 0  | 1  | 1  | 1 | 1 | 1 | 0 | 0\n",
      "0  | 1  | 0  | 0  | 0 | 0 | 0 | 1 | 1\n",
      "0  | 1  | 0  | 1  | 0 | 0 | 0 | 1 | 1\n",
      "0  | 1  | 1  | 0  | 0 | 0 | 0 | 1 | 1\n",
      "0  | 1  | 1  | 1  | 0 | 1 | 0 | 0 | 0\n",
      "1  | 0  | 0  | 0  | 0 | 0 | 0 | 1 | 1\n",
      "1  | 0  | 0  | 1  | 0 | 0 | 0 | 1 | 1\n",
      "1  | 0  | 1  | 0  | 0 | 0 | 0 | 1 | 1\n",
      "1  | 0  | 1  | 1  | 0 | 1 | 0 | 0 | 0\n",
      "1  | 1  | 0  | 0  | 0 | 0 | 0 | 1 | 1\n",
      "1  | 1  | 0  | 1  | 0 | 0 | 0 | 1 | 1\n",
      "1  | 1  | 1  | 0  | 0 | 0 | 0 | 1 | 1\n",
      "1  | 1  | 1  | 1  | 0 | 1 | 0 | 0 | 0\n"
     ]
    }
   ],
   "source": [
    "from sympy import symbols\n",
    "from sympy.logic.boolalg import truth_table, And, Nor\n",
    "\n",
    "x1, x2, x3, x4, x5, x6 = symbols('x1 x2 x3 x4 x5 x6')\n",
    "R = Nor(x1,x2)\n",
    "S = And(x3,x4)\n",
    "P = And(x3, R)\n",
    "X = Nor(P, S)\n",
    "expression = X\n",
    "# Generate truth table\n",
    "print(\"Truth table for the expression:\", expression)\n",
    "print(\"x1 | x2 | x3 | x4 | R | S | P | X | Output\")\n",
    "print(\"_\" * 40)\n",
    "\n",
    "for row in truth_table(expression, [x1, x2, x3, x4]):\n",
    "    inputs = [int(val) for val in row[0]]  # Convert True/False to 1/0 \n",
    "    output = 1 if row[1] else 0  # Convert the outputs to 1's and 0's\n",
    "   # Calculate intermediate values\n",
    "    r_val = 1 if Nor(inputs[0], inputs[1]) else 0\n",
    "    s_val = 1 if And(inputs[2], inputs[3]) else 0\n",
    "    p_val = 1 if And(inputs[2], r_val) else 0\n",
    "    x_val = 1 if Nor(p_val, s_val) else 0\n",
    "\n",
    "    # Print the row with intermediate values\n",
    "    print(f\"{inputs[0]}  | {inputs[1]}  | {inputs[2]}  | {inputs[3]}  | {r_val} | {s_val} | {p_val} | {x_val} | {output}\")\n"
   ]
  }
 ],
 "metadata": {
  "kernelspec": {
   "display_name": "venv",
   "language": "python",
   "name": "python3"
  },
  "language_info": {
   "codemirror_mode": {
    "name": "ipython",
    "version": 3
   },
   "file_extension": ".py",
   "mimetype": "text/x-python",
   "name": "python",
   "nbconvert_exporter": "python",
   "pygments_lexer": "ipython3",
   "version": "3.13.0"
  }
 },
 "nbformat": 4,
 "nbformat_minor": 2
}
