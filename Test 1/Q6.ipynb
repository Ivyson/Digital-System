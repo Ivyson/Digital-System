{
 "cells": [
  {
   "cell_type": "markdown",
   "metadata": {},
   "source": [
    "![](Q6.png)"
   ]
  },
  {
   "cell_type": "code",
   "execution_count": 2,
   "metadata": {},
   "outputs": [
    {
     "name": "stdout",
     "output_type": "stream",
     "text": [
      "[1 1 0 0 1 0]\n",
      "The answer is: [1 0 0 1 1]\n",
      "MSB----LSB\n",
      "19\n"
     ]
    }
   ],
   "source": [
    "import numpy as np\n",
    "array = np.array([1, 0, 0, 1, 0, 1])\n",
    "# shift an array while ensuring that array[5] is the opp of array[4]\n",
    "shift = np.roll(array,0)\n",
    "for i in range(0, 1):\n",
    "    shift = np.roll(shift, 1)\n",
    "    if shift[4] == 1:\n",
    "        # The array at 4 should be 0\n",
    "        shift[5] = 0\n",
    "    else:\n",
    "        shift[5] = 1\n",
    "    print(shift)\n",
    "shift = shift[:5]\n",
    "# print(shift)\n",
    "print(f'The answer is: {shift[::-1]}')\n",
    "print(\"MSB----LSB\")\n",
    "number = 0\n",
    "for i in range(len(shift)):\n",
    "    number += shift[i]*2**i\n",
    "print(number)\n"
   ]
  }
 ],
 "metadata": {
  "kernelspec": {
   "display_name": "venv",
   "language": "python",
   "name": "python3"
  },
  "language_info": {
   "codemirror_mode": {
    "name": "ipython",
    "version": 3
   },
   "file_extension": ".py",
   "mimetype": "text/x-python",
   "name": "python",
   "nbconvert_exporter": "python",
   "pygments_lexer": "ipython3",
   "version": "3.13.0"
  }
 },
 "nbformat": 4,
 "nbformat_minor": 2
}
