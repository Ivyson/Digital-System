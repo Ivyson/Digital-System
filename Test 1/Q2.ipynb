{
 "cells": [
  {
   "cell_type": "markdown",
   "metadata": {},
   "source": [
    "![](Q2A.png)\n",
    "![](Q2B.png)"
   ]
  },
  {
   "cell_type": "code",
   "execution_count": 8,
   "metadata": {},
   "outputs": [
    {
     "name": "stdout",
     "output_type": "stream",
     "text": [
      "Truth table for the expression: ~(~(C | D) | ~(C & ~(A & B)))\n",
      "A | B | C | D | R | S | P | X\n",
      "------------------------------\n",
      "[0, 0, 1, 1] | 1 | 0 | 0 | 1 | 1 5\n",
      "[0, 1, 1, 1] | 1 | 0 | 0 | 1 | 1 2\n",
      "[1, 0, 0, 0] | 1 | 1 | 1 | 0 | 0 4\n",
      "[1, 1, 0, 0] | 0 | 1 | 1 | 0 | 0 3\n",
      "[1, 1, 1, 0] | 0 | 0 | 1 | 0 | 0 1\n"
     ]
    }
   ],
   "source": [
    "from sympy import symbols\n",
    "from sympy.logic.boolalg import truth_table, Nand, Nor\n",
    "\n",
    "# Define the input variables\n",
    "A, B, C, D = symbols('A B C D')\n",
    "\n",
    "# Define the Boolean expressions\n",
    "R = Nand(A, B)\n",
    "S = Nor(C, D)\n",
    "P = Nand(R, C)\n",
    "X = Nor(S, P)\n",
    "\n",
    "# Target conditions to check\n",
    "target1 = [1, 1, 1, 0]\n",
    "target2 = [0, 1, 1, 1]\n",
    "target3 = [1, 1, 0, 0]\n",
    "target4 = [1, 0, 0, 0]\n",
    "target5 = [0, 0, 1, 1]\n",
    "\n",
    "# Print the headers\n",
    "print(\"Truth table for the expression:\", X)\n",
    "print(\"A | B | C | D | R | S | P | X\")\n",
    "print(\"-\" * 30)\n",
    "\n",
    "# Loop through the truth table and print the results\n",
    "for row in truth_table(X, [A, B, C, D]):  # Only include A, B, C, D for the truth table\n",
    "    inputs = [int(val) for val in row[0]]  # Convert True/False to 1/0 (list of ints)\n",
    "    \n",
    "    # Evaluate the intermediate expressions based on the current inputs\n",
    "    R_val = 1 if not (inputs[0] and inputs[1]) else 0  # A and B for Nand\n",
    "    S_val = 1 if not (inputs[2] or inputs[3]) else 0  # C or D for Nor\n",
    "    P_val = 1 if not (R_val and inputs[2]) else 0  # R and C for Nand\n",
    "    X_val = 1 if not (S_val or P_val) else 0  # S or P for Nor\n",
    "    \n",
    "    output = 1 if row[1] else 0  # Convert output from True/False to 1/0\n",
    "    \n",
    "    # Check if the current inputs match any of the target conditions\n",
    "    if inputs == target1:\n",
    "        print(f\"{inputs} | {R_val} | {S_val} | {P_val} | {X_val} | {output} 1\")\n",
    "    elif inputs == target2:\n",
    "        print(f\"{inputs} | {R_val} | {S_val} | {P_val} | {X_val} | {output} 2\")\n",
    "    elif inputs == target3:\n",
    "        print(f\"{inputs} | {R_val} | {S_val} | {P_val} | {X_val} | {output} 3\")\n",
    "    elif inputs == target4:\n",
    "        print(f\"{inputs} | {R_val} | {S_val} | {P_val} | {X_val} | {output} 4\")\n",
    "    elif inputs == target5:\n",
    "        print(f\"{inputs} | {R_val} | {S_val} | {P_val} | {X_val} | {output} 5\")\n"
   ]
  }
 ],
 "metadata": {
  "kernelspec": {
   "display_name": "venv",
   "language": "python",
   "name": "python3"
  },
  "language_info": {
   "codemirror_mode": {
    "name": "ipython",
    "version": 3
   },
   "file_extension": ".py",
   "mimetype": "text/x-python",
   "name": "python",
   "nbconvert_exporter": "python",
   "pygments_lexer": "ipython3",
   "version": "3.13.0"
  }
 },
 "nbformat": 4,
 "nbformat_minor": 2
}
