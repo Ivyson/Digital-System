{
 "cells": [
  {
   "cell_type": "markdown",
   "metadata": {},
   "source": [
    "![](Q5A.png)\n",
    "![](Q5B.png)"
   ]
  },
  {
   "cell_type": "markdown",
   "metadata": {},
   "source": [
    "### Converting AND Gate to NAND Gate\n",
    "\n",
    "**Original AND Gate Expression:**\n",
    "\n",
    "$$ Y = A \\cdot B $$\n",
    "\n",
    "**Using NAND Gate:**\n",
    "\n",
    "$$ Y = \\overline{A \\cdot B} $$\n",
    "\n",
    "To convert an AND gate to NAND, we use the property of NAND gates and negate the result twice. This is equivalent to an AND gate.\n",
    "\n",
    "Thus, to implement the AND gate with NAND gates, we use the following:\n",
    "\n",
    "$$ Y = \\overline{\\overline{A \\cdot B}} = (A \\text{ NAND } B) \\text{ NAND } (A \\text{ NAND } B) $$\n",
    "\n",
    "### Identity Law\n",
    "\n",
    "**Expression:**\n",
    "\n",
    "$$ A \\cdot 1 = A $$\n",
    "\n",
    "**Explanation:**  \n",
    "This law states that AND-ing a value with 1 results in the original value.\n",
    "\n",
    "---\n",
    "\n",
    "### Null Law\n",
    "\n",
    "**Expression:**\n",
    "\n",
    "$$ A + 0 = A $$\n",
    "\n",
    "**Explanation:**  \n",
    "This law states that OR-ing a value with 0 results in the original value.\n"
   ]
  }
 ],
 "metadata": {
  "kernelspec": {
   "display_name": "venv",
   "language": "python",
   "name": "python3"
  },
  "language_info": {
   "name": "python",
   "version": "3.13.0"
  }
 },
 "nbformat": 4,
 "nbformat_minor": 2
}
