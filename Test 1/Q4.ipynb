{
 "cells": [
  {
   "cell_type": "markdown",
   "metadata": {},
   "source": [
    "![](Q4.png)"
   ]
  },
  {
   "cell_type": "code",
   "execution_count": 3,
   "metadata": {},
   "outputs": [
    {
     "data": {
      "text/latex": [
       "$\\displaystyle F{\\left(Hz \\right)} = \\frac{1}{C \\left(0.693 R_{1} + 1.386 R_{2}\\right)}$"
      ],
      "text/plain": [
       "Eq(F(Hz), 1/(C*(0.693*R_1 + 1.386*R_2)))"
      ]
     },
     "metadata": {},
     "output_type": "display_data"
    },
    {
     "data": {
      "text/latex": [
       "$\\displaystyle T{\\left(s \\right)} = C \\left(0.693 R_{1} + 1.386 R_{2}\\right)$"
      ],
      "text/plain": [
       "Eq(T(s), C*(0.693*R_1 + 1.386*R_2))"
      ]
     },
     "metadata": {},
     "output_type": "display_data"
    }
   ],
   "source": [
    "import sympy as sm\n",
    "s,F, T, R1, R2, C, Hz= sm.symbols('s F T R_1 R_2 C Hz')\n",
    "F = 1/(0.693*(R1 +2*R2)*C)\n",
    "display(sm.Eq(sm.Function('F')(Hz),F))\n",
    "T = 1/F\n",
    "display(sm.Eq(sm.Function('T')(s),T))"
   ]
  },
  {
   "cell_type": "code",
   "execution_count": 4,
   "metadata": {},
   "outputs": [
    {
     "data": {
      "text/plain": [
       "'21.38 kohm'"
      ]
     },
     "execution_count": 4,
     "metadata": {},
     "output_type": "execute_result"
    }
   ],
   "source": [
    "\"\"\"\n",
    "F*(0.693*(R1+2R2)*C)=1\n",
    "R1+2R2 = 1/(FC*0.693)\n",
    "R1 =  1/(FC*0.693)-2r2\n",
    "\"\"\"\n",
    "R1 = (1/(0.693*9.5e-9*5.1e3))-2*4.2e3\n",
    "\"{:.2f} kohm\".format(R1 / 1e3)"
   ]
  }
 ],
 "metadata": {
  "kernelspec": {
   "display_name": "venv",
   "language": "python",
   "name": "python3"
  },
  "language_info": {
   "codemirror_mode": {
    "name": "ipython",
    "version": 3
   },
   "file_extension": ".py",
   "mimetype": "text/x-python",
   "name": "python",
   "nbconvert_exporter": "python",
   "pygments_lexer": "ipython3",
   "version": "3.13.0"
  }
 },
 "nbformat": 4,
 "nbformat_minor": 2
}
