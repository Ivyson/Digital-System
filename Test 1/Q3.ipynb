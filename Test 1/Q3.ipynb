{
 "cells": [
  {
   "cell_type": "markdown",
   "metadata": {},
   "source": [
    "![](Q3.png)"
   ]
  },
  {
   "cell_type": "code",
   "execution_count": 1,
   "metadata": {},
   "outputs": [
    {
     "data": {
      "text/plain": [
       "'\\n2^4 = 14\\n2^2 = 4\\n2^1 = 2\\na4 = S1\\nA5 = S0\\nS0S1 = 10\\ninput A4-A5 SELECTS INPUT D2 to go in\\nD2 = 1\\nWhen demultiplexing: \\nS1 = A4\\nS0 = A5\\nS0S1 = 10\\nMaking B2 = 1\\nOutput = B5B4B3B2B1\\nOutput = 10100\\n2^4 + 2^2 = 16+4 = 20\\n\\n'"
      ]
     },
     "execution_count": 1,
     "metadata": {},
     "output_type": "execute_result"
    }
   ],
   "source": [
    "Ainput = 22\n",
    "A = 10110\n",
    "\"\"\"\n",
    "2^4 = 14\n",
    "2^2 = 4\n",
    "2^1 = 2\n",
    "a4 = S1\n",
    "A5 = S0\n",
    "S0S1 = 10\n",
    "input A4-A5 SELECTS INPUT D2 to go in\n",
    "D2 = 1\n",
    "When demultiplexing: \n",
    "S1 = A4\n",
    "S0 = A5\n",
    "S0S1 = 10\n",
    "Making B2 = 1\n",
    "Output = B5B4B3B2B1\n",
    "Output = 10100\n",
    "2^4 + 2^2 = 16+4 = 20\n",
    "\n",
    "\"\"\"\n"
   ]
  }
 ],
 "metadata": {
  "kernelspec": {
   "display_name": "venv",
   "language": "python",
   "name": "python3"
  },
  "language_info": {
   "codemirror_mode": {
    "name": "ipython",
    "version": 3
   },
   "file_extension": ".py",
   "mimetype": "text/x-python",
   "name": "python",
   "nbconvert_exporter": "python",
   "pygments_lexer": "ipython3",
   "version": "3.13.0"
  }
 },
 "nbformat": 4,
 "nbformat_minor": 2
}
