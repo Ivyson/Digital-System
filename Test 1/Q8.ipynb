{
 "cells": [
  {
   "cell_type": "markdown",
   "metadata": {},
   "source": [
    "\n",
    "![](Q8.png)"
   ]
  },
  {
   "cell_type": "markdown",
   "metadata": {},
   "source": [
    "\n",
    "### **Truth Table for XNOR Gate**\n",
    "\n",
    "| **Input A** | **Input B** | **XNOR Output (A ⊙ B)** |\n",
    "|-------------|-------------|-------------------------|\n",
    "|      0      |      0      |            1            |\n",
    "|      0      |      1      |            0            |\n",
    "|      1      |      0      |            0            |\n",
    "|      1      |      1      |            1            |\n",
    "\n"
   ]
  },
  {
   "cell_type": "code",
   "execution_count": null,
   "metadata": {},
   "outputs": [],
   "source": []
  }
 ],
 "metadata": {
  "kernelspec": {
   "display_name": "venv",
   "language": "python",
   "name": "python3"
  },
  "language_info": {
   "name": "python",
   "version": "3.13.0"
  }
 },
 "nbformat": 4,
 "nbformat_minor": 2
}
