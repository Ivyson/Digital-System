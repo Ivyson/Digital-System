{
 "cells": [
  {
   "cell_type": "markdown",
   "metadata": {},
   "source": [
    "# Linear Flash ADC\n",
    "\n",
    "This device converts an analog signal into digital by using comparators and resistors.\n",
    "\n",
    "Firstly, you have to find the steps for the reference voltage ($V_{ref}$), which should be $( \\frac{V_{ref}}{\\text{number of resistors}})$\n",
    "\n",
    "Then, keep decrementing the reference voltage ($V_{ref}$) as you move down.\n",
    "\n",
    "When the value of the Vref ≈ vin then stop,That D_n will be your answer"
   ]
  }
 ],
 "metadata": {
  "language_info": {
   "name": "python"
  }
 },
 "nbformat": 4,
 "nbformat_minor": 2
}
