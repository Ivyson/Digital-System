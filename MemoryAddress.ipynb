{
 "cells": [
  {
   "cell_type": "markdown",
   "metadata": {},
   "source": [
    "1. Calculate the number of Address Pins given:\n",
    "    - You have pins from: $A_{\\text{0}}$ up to $A_{\\text{14}}$\n",
    "    - This makes up 15 bits.\n",
    "    - Initially, every bit will be zero. So the input will look like this:\n",
    "    \n",
    "    ```markdown\n",
    "    | Address Pins | A_0 | A_1 | A_2 | A_3 | A_4 | A_5 | A_6 | A_7 | A_8 | A_9 | A_{10} | A_{11} | A_{12} | A_{13} | A_{14} |\n",
    "    |--------------|-----|-----|-----|-----|-----|-----|-----|-----|-----|-----|--------|--------|--------|--------|--------|\n",
    "    |Initial Values|  0  |  0  |  0  |  0  |  0  |  0  |  0  |  0  |  0  |  0  |   0    |   0    |   0    |   0    |   0    |\n",
    "    ```\n",
    "\n",
    "    - Now pay attention to $A_{\\text{14}}$, as it acts as a chip selector. When $A_{\\text{14}}$ is low (0), it activates IC3 and IC4.\n",
    "    - These ICs will always be selected as long as $A_{\\text{14}} = 0$.\n",
    "    - This implies that from having bits [0 0 0 0 0 0 0 0 0 0 0 0 0 0 0] to having [0 1 1 1 1 1 1 1 1 1 1 1 1 1 1], IC3 and IC4 will be selected.\n",
    "    - Convert the above binaries into hexadecimal values, it should give you: 0000H to 3FFFH.\n",
    "    - Immediately when $A_{\\text{14}} = 1$, Chip 1 and Chip 2 are selected, disabling th IC3 AND IC4. The initial condition is when [1 0 0 0 0 0 0 0 0 0 0 0 0 0 0].\n",
    "    - This will happen up until we reach the maximum output of the data input which is [1 1 1 1 1 1 1 1 1 1 1 1 1 1 1].\n",
    "    - Now just convert the above binaries into hexadecimal: giving you 4000H to 7FFFH."
   ]
  },
  {
   "cell_type": "markdown",
   "metadata": {},
   "source": []
  }
 ],
 "metadata": {
  "language_info": {
   "name": "python"
  }
 },
 "nbformat": 4,
 "nbformat_minor": 2
}
