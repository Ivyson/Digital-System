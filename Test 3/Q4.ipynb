{
 "cells": [
  {
   "cell_type": "markdown",
   "metadata": {},
   "source": [
    "![](Q4.png)"
   ]
  },
  {
   "cell_type": "markdown",
   "metadata": {},
   "source": [
    "1. The formula for Dynamic Power $P_{\\text{dynamic}} = N_{\\text{Number of SW Bits}} \\cdot f \\cdot C \\cdot V_{\\text{input}}^2 \\cdot $\n",
    "2. Calculate the internal Power: $P_{\\text{internal}} = 16 \\times 18\\times10^{-12} \\times 14\\times10^6 \\times 25 \\approx 0.1008$\n",
    "3. Calculate the load Power: \n",
    "    - We are given that $f_{\\text{load}} = \\frac{1}{10}\\times f_{\\text{in}}$\n",
    "    - Therefore : $f_{\\text{load}} = \\frac{14\\times10^6}{10}$\n",
    "    - $P_{\\text{load}} = 7 \\times \\frac{14\\times10^3}{10} \\times 25 \\times 21\\times 10^{-12} \\approx 5.145\\times 10^{-3}$\n",
    "4. Calculate the Total Power:\n",
    "    - $P_{\\text{dynamic}} = P_{\\text{internal}}+P_{\\text{load}}$\n",
    "    - $P_{\\text{dynamic}} = 0.1008+ 0.005145 = 0.105945 = 106\\text{mW}$"
   ]
  },
  {
   "cell_type": "code",
   "execution_count": 1,
   "metadata": {},
   "outputs": [
    {
     "data": {
      "text/plain": [
       "106"
      ]
     },
     "execution_count": 1,
     "metadata": {},
     "output_type": "execute_result"
    }
   ],
   "source": [
    "# Given data\n",
    "V_DD = 5  # Supply voltage in Volts\n",
    "f_I = 14e6  # Input frequency in Hz (14 MHz)\n",
    "CPD = 18e-12  # Capacitance in Farads (18 pF)\n",
    "n_internal = 16  # Number of bits switching internally\n",
    "f_load = f_I / 10  # Load frequency (one tenth of input frequency)\n",
    "C_L = 21e-12  # Load capacitance per bit in Farads (21 pF)\n",
    "n_external = 7  # Number of bits in the external load\n",
    "\n",
    "# Internal Power \n",
    "P_internal = f_I * (V_DD ** 2) * (n_internal * CPD)\n",
    "# External Power \n",
    "P_external = f_load * (V_DD ** 2) * (n_external * C_L)\n",
    "\n",
    "# Total Dynamic Power Dissipation\n",
    "P_total = P_internal + P_external\n",
    "P_total_mW = P_total * 1e3  # Convert from W to mW\n",
    "\n",
    "round(P_total_mW)\n"
   ]
  }
 ],
 "metadata": {
  "kernelspec": {
   "display_name": "venv",
   "language": "python",
   "name": "python3"
  },
  "language_info": {
   "codemirror_mode": {
    "name": "ipython",
    "version": 3
   },
   "file_extension": ".py",
   "mimetype": "text/x-python",
   "name": "python",
   "nbconvert_exporter": "python",
   "pygments_lexer": "ipython3",
   "version": "3.13.0"
  }
 },
 "nbformat": 4,
 "nbformat_minor": 2
}
