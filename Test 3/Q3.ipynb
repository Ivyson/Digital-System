{
 "cells": [
  {
   "cell_type": "markdown",
   "metadata": {},
   "source": [
    "![](Q3.png)"
   ]
  },
  {
   "cell_type": "markdown",
   "metadata": {},
   "source": [
    "1. Divdive the waveform into the small segments, and count for bits per time\n",
    "    - First four bits = [1 0 1 1] = 11\n",
    "    - Second four bits = [0 1 1 1] = 7\n",
    "    - Third Four bits = [1 1 0 0] = 12\n",
    "    - Fourth Four bits = [0 0 1 1] = 3\n",
    "    - Fifth four bits = [1 1 0 0]\n",
    "    - Sixth Four bits = [1 1 1 0]\n",
    "    - Seventh Four bits = [0 1 0 1] = 5, \n",
    "    - Convert 5 into Voltage = $5 \\times 0.5 = 2.5$\n"
   ]
  }
 ],
 "metadata": {
  "kernelspec": {
   "display_name": "venv",
   "language": "python",
   "name": "python3"
  },
  "language_info": {
   "name": "python",
   "version": "3.13.0"
  }
 },
 "nbformat": 4,
 "nbformat_minor": 2
}
