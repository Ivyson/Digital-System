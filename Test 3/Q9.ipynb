{
 "cells": [
  {
   "cell_type": "markdown",
   "metadata": {},
   "source": [
    "![](Q9.png)"
   ]
  },
  {
   "cell_type": "markdown",
   "metadata": {},
   "source": [
    "The address that we are looking for is found is = Indexing + Number in the register\n",
    "- $(\\text{EA} = \\text{Address} + \\text{PC})$\n",
    "- Number in the register $\\Rightarrow$ PC\n",
    "- Indexing = [1 0 1 1 1  0 0 0 ] $\\approx$ 184\n",
    "- EA = $(6FB5H_{\\text{16}} = 28597_{\\text{10}})$\n",
    "- $PC = EA -Index$\n",
    "- $PC = 28597 - 184 = 28413$"
   ]
  }
 ],
 "metadata": {
  "language_info": {
   "name": "python"
  }
 },
 "nbformat": 4,
 "nbformat_minor": 2
}
