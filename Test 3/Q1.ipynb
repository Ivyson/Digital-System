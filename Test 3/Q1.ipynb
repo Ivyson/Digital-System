{
 "cells": [
  {
   "cell_type": "markdown",
   "metadata": {},
   "source": [
    "![](Q1.png)\n",
    "\n",
    "To get the USB's efficiency, we first need to get the total number of data bits:\n",
    "$[ 256 \\text{ bytes} \\times 8 \\text{ bits/byte} = 2048 \\text{ bits} ]$\n",
    "\n",
    "1. Calculate the total overhead in bits:\n",
    "    - Firstly, we have to convert every byte into a bit, to work with a uniform dimension \n",
    "    - Preamble: 8 bits\n",
    "    - Address field: $( 9 \\text{ bytes} \\times 8 \\text{ bits/byte} = 72 \\text{ bits} )$\n",
    "    - Control field: 7 bits\n",
    "    - Frame check: $( 5 \\text{ bytes} \\times 8 \\text{ bits/byte} = 40 \\text{ bits} )$\n",
    "    - End frame: 8 bits\n",
    "\n",
    "    Total overhead bits: $( 8 + 72 + 40 + 8 = 128 \\text{ bits})$\n",
    "\n",
    "2. Calculate the total number of bits in the packet:\n",
    "    $[ 2048 \\text{ data bits} + 128 \\text{ overhead bits} = 2176 \\text{ bits} ]$\n",
    "\n",
    "3. Calculate the efficiency:\n",
    "    $[ \\text{Efficiency} = \\left( \\frac{2048}{2176} \\right) \\times 100 \\approx 94.14\\% ]$"
   ]
  },
  {
   "cell_type": "markdown",
   "metadata": {},
   "source": []
  }
 ],
 "metadata": {
  "language_info": {
   "name": "python"
  }
 },
 "nbformat": 4,
 "nbformat_minor": 2
}
