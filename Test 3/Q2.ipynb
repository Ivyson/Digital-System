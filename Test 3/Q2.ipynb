{
 "cells": [
  {
   "cell_type": "markdown",
   "metadata": {},
   "source": [
    "![](Q2.png)\n"
   ]
  },
  {
   "cell_type": "markdown",
   "metadata": {},
   "source": [
    "1. Steps to calculate the total:\n",
    "    - Initialize `firstNumber` list: [26, 45, 0, 5, 30, 0, 22, 10, 51, 0, 7, 18]\n",
    "    - Set `total` to 0\n",
    "    - Add the first number (26) to `total`, making it 26\n",
    "    - Check if `total` is greater than 75; if not, add the next number (45)\n",
    "    - `total` becomes 71, which is still not greater than 75, so add the next number (5)\n",
    "    - Now `total` is 76, which is greater than 75, so stop\n"
   ]
  },
  {
   "cell_type": "code",
   "execution_count": 3,
   "metadata": {},
   "outputs": [
    {
     "name": "stdout",
     "output_type": "stream",
     "text": [
      "76\n"
     ]
    }
   ],
   "source": [
    "firstNumber = [26, 45, 0, 5, 30, 0, 22, 10, 51, 0, 7, 18]\n",
    "total = 0\n",
    "counter = 0\n",
    "total = firstNumber[counter]\n",
    "while(True):\n",
    "    if total > 75:\n",
    "        break\n",
    "    else: \n",
    "        counter += 1\n",
    "        total += firstNumber[counter]\n",
    "        # print(total)\n",
    "print(total)"
   ]
  }
 ],
 "metadata": {
  "kernelspec": {
   "display_name": "venv",
   "language": "python",
   "name": "python3"
  },
  "language_info": {
   "codemirror_mode": {
    "name": "ipython",
    "version": 3
   },
   "file_extension": ".py",
   "mimetype": "text/x-python",
   "name": "python",
   "nbconvert_exporter": "python",
   "pygments_lexer": "ipython3",
   "version": "3.13.0"
  }
 },
 "nbformat": 4,
 "nbformat_minor": 2
}
