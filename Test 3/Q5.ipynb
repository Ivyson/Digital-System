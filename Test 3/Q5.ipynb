{
 "cells": [
  {
   "cell_type": "markdown",
   "metadata": {},
   "source": [
    "![](Q5.png)"
   ]
  },
  {
   "cell_type": "markdown",
   "metadata": {},
   "source": [
    "1. Useful formulas for this diagram: \n",
    "    - $number of stars = 2^{number of bits}$\n",
    "    - $number of bits = \\log_2(number of stars)$\n",
    "    - $Bit rate_{\\text(Mbps)} = Baud_{\\text{Mbaud}} \\times \\log_2(number of stars)$\n",
    "    - $Baud_{\\text{Mbaud}} = \\frac{Bit rate_{\\text(Mbps)}}{\\log_2(number of stars)}$\n",
    "2. Answering the question:\n",
    "    - $Baud_{\\text{Mbaud}} = \\frac{672}{\\log_2(8)} = 224$"
   ]
  }
 ],
 "metadata": {
  "language_info": {
   "name": "python"
  }
 },
 "nbformat": 4,
 "nbformat_minor": 2
}
