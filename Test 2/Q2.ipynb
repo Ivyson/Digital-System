{
 "cells": [
  {
   "cell_type": "markdown",
   "metadata": {},
   "source": [
    "![](Q2.png)"
   ]
  },
  {
   "cell_type": "markdown",
   "metadata": {},
   "source": [
    "# The Device \n",
    "- The device 74HC163 is a 4 bit binary counter, it can count from 0 to 15 (From [0 0 0 0] to [1 1 1 1])\n",
    "- The Device requires a high on CLEAR and Enable Pin (ENP & ENT) to count.\n",
    "- The device is synchronous, meaning that, for changes to occur, there should be a rising edge. This implies that the load is considered useless if it comes displaced relative the clock, It should be aligned to the clock for it to be considered as a load.\n",
    "## The waveform diagram \n",
    "- The first rising edge clock occurs at 2, but at 2, ENP AND CLEAR are low, Setting the value to Zero,\n",
    "- At Clock 4, the Counter will count up once, Having an output of 1,\n",
    "- The Load happens mid clock 4 and 5, so it is not considered.\n",
    "- The counter will count up again at clock 8, giving an output of 2,\n",
    "- Count up again at clcok 12, Giving an output of 3.\n",
    "- The last count will be at 14, Giving us an output of 4"
   ]
  }
 ],
 "metadata": {
  "language_info": {
   "name": "python"
  }
 },
 "nbformat": 4,
 "nbformat_minor": 2
}
