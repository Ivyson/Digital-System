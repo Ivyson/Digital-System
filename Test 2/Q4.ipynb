{
 "cells": [
  {
   "cell_type": "markdown",
   "metadata": {},
   "source": [
    "![](Q4.png)\n",
    "\n",
    "The counter will count normally up until it reaches the value 24, at which point the NAND gate will cause the counter to reset, starting from 0. So from 14, it will count for the next 10 clock cycles. On the 10th clock cycle, it will clear, and on the 11th clock cycle, it will start from 1."
   ]
  }
 ],
 "metadata": {
  "language_info": {
   "name": "python"
  }
 },
 "nbformat": 4,
 "nbformat_minor": 2
}
