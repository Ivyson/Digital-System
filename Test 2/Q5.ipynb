{
 "cells": [
  {
   "cell_type": "markdown",
   "metadata": {},
   "source": [
    "![](Q5.png)"
   ]
  },
  {
   "cell_type": "markdown",
   "metadata": {},
   "source": [
    "- This Linear Flash has 4 output bits \n",
    "- $\\therefore V_{\\text{Step}} = \\frac{V_{\\text{Vref}}}{2^{no of inputs} - 1}$\n",
    "- Now this is the rate at which each resistor will decrement the $V_{\\text{Ref}}$ \n",
    "- $V_{\\text{Step}} = \\frac{18}{2^4 -1}=\\frac{18}{16-1} = \\frac{18}{15} = 1.2$\n",
    "- To find the D- $D = \\frac{V_{\\text{in}}}{V_{\\text{step}}}$\n",
    "- $D = \\frac{11.2}{1.2} \\approx 9.33 = 9$\n"
   ]
  },
  {
   "cell_type": "code",
   "execution_count": 4,
   "metadata": {},
   "outputs": [
    {
     "name": "stdout",
     "output_type": "stream",
     "text": [
      "9.955555555555556\n"
     ]
    },
    {
     "data": {
      "text/plain": [
       "9"
      ]
     },
     "execution_count": 4,
     "metadata": {},
     "output_type": "execute_result"
    }
   ],
   "source": [
    "import math\n",
    "\n",
    "Vref = 18\n",
    "Vin = 11.2\n",
    "No_Output = 4 \n",
    "Vstep = Vref/(2**(No_Output))\n",
    "D = Vin/Vstep\n",
    "print(D)\n",
    "math.floor(D)"
   ]
  }
 ],
 "metadata": {
  "kernelspec": {
   "display_name": "venv",
   "language": "python",
   "name": "python3"
  },
  "language_info": {
   "codemirror_mode": {
    "name": "ipython",
    "version": 3
   },
   "file_extension": ".py",
   "mimetype": "text/x-python",
   "name": "python",
   "nbconvert_exporter": "python",
   "pygments_lexer": "ipython3",
   "version": "3.13.0"
  }
 },
 "nbformat": 4,
 "nbformat_minor": 2
}
