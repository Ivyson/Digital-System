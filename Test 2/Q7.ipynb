{
 "cells": [
  {
   "cell_type": "markdown",
   "metadata": {},
   "source": [
    "![](Q7.png)\n"
   ]
  },
  {
   "cell_type": "markdown",
   "metadata": {},
   "source": [
    "- Convert The Hexidecimal value into Binary and then into Decimal Value\n",
    "- $E23AH_{10} = 57914_{10} = 1110 0010 0011 1010_{2}$\n",
    "- Divide the binary value into two equal Parts:\n",
    "    - X = [1110 0010]\n",
    "    - Y = [0011 1010]\n",
    "    - $Product = E2_{16} \\times 3A_{16}$\n",
    "    - $Product = 3334_{16} = 13108_{10}$"
   ]
  }
 ],
 "metadata": {
  "language_info": {
   "name": "python"
  }
 },
 "nbformat": 4,
 "nbformat_minor": 2
}
