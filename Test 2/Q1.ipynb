{
 "cells": [
  {
   "cell_type": "markdown",
   "metadata": {},
   "source": [
    "![](Q1.png)"
   ]
  },
  {
   "cell_type": "code",
   "execution_count": 1,
   "metadata": {},
   "outputs": [
    {
     "data": {
      "text/latex": [
       "$\\displaystyle V_{step}{\\left(V \\right)} = \\frac{R_{REF} V_{in}}{R_{0}}$"
      ],
      "text/plain": [
       "Eq(V_step(V), R_REF*V_in/R_0)"
      ]
     },
     "metadata": {},
     "output_type": "display_data"
    },
    {
     "data": {
      "text/latex": [
       "$\\displaystyle V_{out}{\\left(V \\right)} = \\frac{Num_{Dec} R_{REF} V_{in}}{R_{0}}$"
      ],
      "text/plain": [
       "Eq(V_out(V), Num_Dec*R_REF*V_in/R_0)"
      ]
     },
     "metadata": {},
     "output_type": "display_data"
    },
    {
     "data": {
      "text/latex": [
       "$\\displaystyle R_{0}{\\left(\\Omega \\right)} = 2^{n} R_{n}$"
      ],
      "text/plain": [
       "Eq(R_0(Omega), 2**n*R_n)"
      ]
     },
     "metadata": {},
     "output_type": "display_data"
    }
   ],
   "source": [
    "import sympy as sm \n",
    "V_in, V_out, R0, R1, R2, R3, R4, R5, R_e, R_n = sm.symbols('V_in V_out R_0 R_1 R_2 R_3 R_4 R_5 R_REF R_n')\n",
    "Vstep = (R_e/R0)*V_in\n",
    "display(sm.Eq(sm.Function('V_step')(sm.symbols('V')),Vstep))\n",
    "V_out = sm.symbols('Num_Dec')*Vstep\n",
    "display(sm.Eq(sm.Function('V_out')(sm.symbols('V')),V_out))\n",
    "R0 = 2**sm.symbols('n')*R_n\n",
    "display(sm.Eq(sm.Function('R_0')(sm.symbols('Omega')),R0))"
   ]
  }
 ],
 "metadata": {
  "kernelspec": {
   "display_name": "venv",
   "language": "python",
   "name": "python3"
  },
  "language_info": {
   "codemirror_mode": {
    "name": "ipython",
    "version": 3
   },
   "file_extension": ".py",
   "mimetype": "text/x-python",
   "name": "python",
   "nbconvert_exporter": "python",
   "pygments_lexer": "ipython3",
   "version": "3.13.0"
  }
 },
 "nbformat": 4,
 "nbformat_minor": 2
}
