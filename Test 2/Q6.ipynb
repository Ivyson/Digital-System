{
 "cells": [
  {
   "cell_type": "markdown",
   "metadata": {},
   "source": [
    "![](Q6.png)"
   ]
  },
  {
   "cell_type": "markdown",
   "metadata": {},
   "source": [
    "- Convert the input A into Binary \n",
    "    - A = [1 0 0 1 0 0 1 1]\n",
    "    - Divide the input into two \n",
    "    - B = [1 0 0 1]\n",
    "    - C = [0 0 1 1]\n",
    "- Convert B and C into Decimal. B = 9, C = 3\n",
    "- The left Counter will count from 9 to 15, (Inclusive of 9) $\\rightarrow$ 7 states\n",
    "- The right Counter will count from 3 (Inclusive of 3) till 15, $\\rightarrow$ 13 states\n",
    "- $F_{\\text{output}} = \\frac{F_in}{B\\times C}$\n",
    "- $F_{\\text{output}} =\\frac{594}{9 \\times 3} = 22\\text{MHz}$"
   ]
  }
 ],
 "metadata": {
  "kernelspec": {
   "display_name": "venv",
   "language": "python",
   "name": "python3"
  },
  "language_info": {
   "name": "python",
   "version": "3.13.0"
  }
 },
 "nbformat": 4,
 "nbformat_minor": 2
}
