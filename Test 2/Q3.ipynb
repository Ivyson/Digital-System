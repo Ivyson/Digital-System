{
 "cells": [
  {
   "cell_type": "markdown",
   "metadata": {},
   "source": [
    "![](Q3A.png)\n",
    "![](Q3B.png)"
   ]
  },
  {
   "cell_type": "markdown",
   "metadata": {},
   "source": [
    "- Chip Select is Low edge trigered, Meaning that it selects the Chip when $A_{15} = 0$\n",
    "- Initially, every bit will go to Zero, Selecting Chip 4 and 3.\n",
    "- This will output [0 0 0 0 0 0 0 0 0 0 0 0 0 0 0] = $0000H$\n",
    "- $A_{15} $ being the MSB\n",
    "- This condition will occur up until we the binary [0 1 1 1 1 1 1 1 1 1 1 1 1 1 1] = $7FFFH$\n",
    "- From the Condition : [1 0 0 0 0 0 0 0 0 0 0 0 0 0 0], Chip 1 and 2 are now selected.\n",
    "- Creating the initial value of = $8000H$\n",
    "- This condition will continue up until we reach a maximum value of [1 1 1 1 1 1 1 1 1 1 1 1 1 1 1 1] = $FFFFH$\n"
   ]
  }
 ],
 "metadata": {
  "language_info": {
   "name": "python"
  }
 },
 "nbformat": 4,
 "nbformat_minor": 2
}
